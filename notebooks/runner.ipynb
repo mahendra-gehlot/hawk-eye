{
  "nbformat": 4,
  "nbformat_minor": 0,
  "metadata": {
    "colab": {
      "provenance": [],
      "collapsed_sections": []
    },
    "kernelspec": {
      "name": "python3",
      "display_name": "Python 3"
    },
    "language_info": {
      "name": "python"
    },
    "accelerator": "TPU",
    "gpuClass": "standard"
  },
  "cells": [
    {
      "cell_type": "code",
      "source": [
        "# clonning\n",
        "!git clone https://github.com/mahendra-gehlot/hawk-eye"
      ],
      "metadata": {
        "colab": {
          "base_uri": "https://localhost:8080/"
        },
        "id": "0CPsfyQQZoZc",
        "outputId": "ccc0873b-c20e-47fa-b3ad-be201a5fd27a"
      },
      "execution_count": 17,
      "outputs": [
        {
          "output_type": "stream",
          "name": "stdout",
          "text": [
            "Cloning into 'hawk-eye'...\n",
            "remote: Enumerating objects: 122, done.\u001b[K\n",
            "remote: Counting objects: 100% (122/122), done.\u001b[K\n",
            "remote: Compressing objects: 100% (84/84), done.\u001b[K\n",
            "remote: Total 122 (delta 41), reused 87 (delta 23), pack-reused 0\u001b[K\n",
            "Receiving objects: 100% (122/122), 858.69 KiB | 7.53 MiB/s, done.\n",
            "Resolving deltas: 100% (41/41), done.\n"
          ]
        }
      ]
    },
    {
      "cell_type": "code",
      "source": [
        "#setting directory to root of project\n",
        "cd hawk-eye"
      ],
      "metadata": {
        "colab": {
          "base_uri": "https://localhost:8080/"
        },
        "id": "yTcju6GQbU6m",
        "outputId": "3bc2697f-76e9-42e3-e63f-74005cec8b20"
      },
      "execution_count": 18,
      "outputs": [
        {
          "output_type": "stream",
          "name": "stdout",
          "text": [
            "/content/hawk-eye\n"
          ]
        }
      ]
    },
    {
      "cell_type": "code",
      "source": [
        "# initiating training\n",
        "!python3 src/models/train_model.py"
      ],
      "metadata": {
        "id": "qZFJApeObd5x"
      },
      "execution_count": null,
      "outputs": []
    }
  ]
}