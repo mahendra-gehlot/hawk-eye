{
 "cells": [
  {
   "cell_type": "code",
   "execution_count": 1,
   "id": "894ee774-b560-41a6-97f0-caf423cd575c",
   "metadata": {
    "execution": {
     "iopub.execute_input": "2022-11-22T11:11:10.904756Z",
     "iopub.status.busy": "2022-11-22T11:11:10.904181Z",
     "iopub.status.idle": "2022-11-22T11:11:10.917900Z",
     "shell.execute_reply": "2022-11-22T11:11:10.917014Z",
     "shell.execute_reply.started": "2022-11-22T11:11:10.904756Z"
    }
   },
   "outputs": [
    {
     "name": "stdout",
     "output_type": "stream",
     "text": [
      "/notebooks/hawk-eye\n"
     ]
    }
   ],
   "source": [
    "cd hawk-eye"
   ]
  },
  {
   "cell_type": "code",
   "execution_count": 2,
   "id": "2dae7582-8850-4fbc-adda-5a8538aed49d",
   "metadata": {
    "execution": {
     "iopub.execute_input": "2022-11-22T11:11:13.827516Z",
     "iopub.status.busy": "2022-11-22T11:11:13.827157Z",
     "iopub.status.idle": "2022-11-22T11:11:14.516378Z",
     "shell.execute_reply": "2022-11-22T11:11:14.515220Z",
     "shell.execute_reply.started": "2022-11-22T11:11:13.827489Z"
    }
   },
   "outputs": [
    {
     "name": "stdout",
     "output_type": "stream",
     "text": [
      "LICENSE  README.md  data  models  notebooks  reports  requirements.txt\tsrc\n"
     ]
    }
   ],
   "source": [
    "!ls"
   ]
  },
  {
   "cell_type": "code",
   "execution_count": 3,
   "id": "842ded81-d0fc-47b2-86a9-171516b59328",
   "metadata": {
    "execution": {
     "iopub.execute_input": "2022-11-22T11:11:16.675061Z",
     "iopub.status.busy": "2022-11-22T11:11:16.674668Z",
     "iopub.status.idle": "2022-11-22T11:18:34.807962Z",
     "shell.execute_reply": "2022-11-22T11:18:34.806461Z",
     "shell.execute_reply.started": "2022-11-22T11:11:16.675030Z"
    }
   },
   "outputs": [
    {
     "name": "stdout",
     "output_type": "stream",
     "text": [
      "/usr/local/lib/python3.9/dist-packages/torchvision/models/_utils.py:208: UserWarning: The parameter 'pretrained' is deprecated since 0.13 and will be removed in 0.15, please use 'weights' instead.\n",
      "  warnings.warn(\n",
      "/usr/local/lib/python3.9/dist-packages/torchvision/models/_utils.py:223: UserWarning: Arguments other than a weight enum or `None` for 'weights' are deprecated since 0.13 and will be removed in 0.15. The current behavior is equivalent to passing `weights=VGG19_Weights.IMAGENET1K_V1`. You can also use `weights=VGG19_Weights.DEFAULT` to get the most up-to-date weights.\n",
      "  warnings.warn(msg)\n",
      "Downloading: \"https://download.pytorch.org/models/vgg19-dcbb9e9d.pth\" to /root/.cache/torch/hub/checkpoints/vgg19-dcbb9e9d.pth\n",
      "100%|█████████████████████████████████████████| 548M/548M [00:02<00:00, 193MB/s]\n",
      "/usr/local/lib/python3.9/dist-packages/torchvision/transforms/transforms.py:332: UserWarning: Argument 'interpolation' of type int is deprecated since 0.13 and will be removed in 0.15. Please use InterpolationMode enum.\n",
      "  warnings.warn(\n"
     ]
    }
   ],
   "source": [
    "!python3 src/models/predict_model.py"
   ]
  },
  {
   "cell_type": "code",
   "execution_count": null,
   "id": "d4688e31-c08e-4e9a-857f-63502095f0e4",
   "metadata": {},
   "outputs": [],
   "source": []
  }
 ],
 "metadata": {
  "kernelspec": {
   "display_name": "Python 3 (ipykernel)",
   "language": "python",
   "name": "python3"
  },
  "language_info": {
   "codemirror_mode": {
    "name": "ipython",
    "version": 3
   },
   "file_extension": ".py",
   "mimetype": "text/x-python",
   "name": "python",
   "nbconvert_exporter": "python",
   "pygments_lexer": "ipython3",
   "version": "3.9.13"
  }
 },
 "nbformat": 4,
 "nbformat_minor": 5
}
