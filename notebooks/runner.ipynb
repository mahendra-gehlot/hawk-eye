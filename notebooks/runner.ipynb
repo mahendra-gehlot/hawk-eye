{
  "nbformat": 4,
  "nbformat_minor": 0,
  "metadata": {
    "colab": {
      "provenance": [],
      "collapsed_sections": []
    },
    "kernelspec": {
      "name": "python3",
      "display_name": "Python 3"
    },
    "language_info": {
      "name": "python"
    },
    "accelerator": "TPU",
    "gpuClass": "standard"
  },
  "cells": [
    {
      "cell_type": "code",
      "source": [
        "# clonning\n",
        "!git clone https://github.com/mahendra-gehlot/hawk-eye"
      ],
      "metadata": {
        "colab": {
          "base_uri": "https://localhost:8080/"
        },
        "id": "0CPsfyQQZoZc",
        "outputId": "f7d86c1f-f632-415e-f939-dc06b7f28569"
      },
      "execution_count": 1,
      "outputs": [
        {
          "output_type": "stream",
          "name": "stdout",
          "text": [
            "Cloning into 'hawk-eye'...\n",
            "remote: Enumerating objects: 144, done.\u001b[K\n",
            "remote: Counting objects: 100% (144/144), done.\u001b[K\n",
            "remote: Compressing objects: 100% (95/95), done.\u001b[K\n",
            "remote: Total 144 (delta 52), reused 105 (delta 30), pack-reused 0\u001b[K\n",
            "Receiving objects: 100% (144/144), 860.88 KiB | 7.29 MiB/s, done.\n",
            "Resolving deltas: 100% (52/52), done.\n"
          ]
        }
      ]
    },
    {
      "cell_type": "code",
      "source": [
        "# mounts\n",
        "from google.colab import drive\n",
        "drive.mount('/content/gdrive')"
      ],
      "metadata": {
        "colab": {
          "base_uri": "https://localhost:8080/"
        },
        "id": "KS3oFrkglx4j",
        "outputId": "c1b54501-34b5-4096-e439-355b4457fa79"
      },
      "execution_count": 2,
      "outputs": [
        {
          "output_type": "stream",
          "name": "stdout",
          "text": [
            "Mounted at /content/gdrive\n"
          ]
        }
      ]
    },
    {
      "cell_type": "code",
      "source": [
        "cd hawk-eye"
      ],
      "metadata": {
        "colab": {
          "base_uri": "https://localhost:8080/"
        },
        "id": "yTcju6GQbU6m",
        "outputId": "6eeaf3ea-5b1f-4294-c2da-28a4f079fd6e"
      },
      "execution_count": 4,
      "outputs": [
        {
          "output_type": "stream",
          "name": "stdout",
          "text": [
            "/content/hawk-eye\n"
          ]
        }
      ]
    },
    {
      "cell_type": "code",
      "source": [
        "# initiating training\n",
        "!python3 src/models/train_model.py"
      ],
      "metadata": {
        "id": "qZFJApeObd5x"
      },
      "execution_count": null,
      "outputs": []
    },
    {
      "cell_type": "code",
      "source": [
        "!cp 'reports/GAN_results/490.png' '/content/gdrive/MyDrive/ICAIML_RES/'"
      ],
      "metadata": {
        "id": "L2SsGMKSmIGY"
      },
      "execution_count": 5,
      "outputs": []
    },
    {
      "cell_type": "code",
      "source": [],
      "metadata": {
        "id": "0MilRE3vnkBI"
      },
      "execution_count": null,
      "outputs": []
    }
  ]
}