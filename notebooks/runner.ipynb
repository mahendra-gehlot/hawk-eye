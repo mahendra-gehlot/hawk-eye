{
 "cells": [
  {
   "cell_type": "code",
   "execution_count": 1,
   "id": "85270a52-c06b-4bbe-8ff7-564b9c2021fd",
   "metadata": {
    "execution": {
     "iopub.execute_input": "2022-11-08T13:15:07.259756Z",
     "iopub.status.busy": "2022-11-08T13:15:07.258190Z",
     "iopub.status.idle": "2022-11-08T13:15:15.971304Z",
     "shell.execute_reply": "2022-11-08T13:15:15.970376Z",
     "shell.execute_reply.started": "2022-11-08T13:15:07.259605Z"
    }
   },
   "outputs": [
    {
     "name": "stdout",
     "output_type": "stream",
     "text": [
      "Cloning into 'hawk-eye'...\n",
      "remote: Enumerating objects: 574, done.\u001b[K\n",
      "remote: Counting objects: 100% (20/20), done.\u001b[K\n",
      "remote: Compressing objects: 100% (13/13), done.\u001b[K\n",
      "remote: Total 574 (delta 9), reused 16 (delta 7), pack-reused 554\u001b[K\n",
      "Receiving objects: 100% (574/574), 87.01 MiB | 22.15 MiB/s, done.\n",
      "Resolving deltas: 100% (71/71), done.\n",
      "Updating files: 100% (411/411), done.\n"
     ]
    }
   ],
   "source": [
    "# clonning\n",
    "!git clone https://github.com/mahendra-gehlot/hawk-eye"
   ]
  },
  {
   "cell_type": "code",
   "execution_count": 1,
   "id": "eb44a146-495e-4166-8d67-0d9f7deac2f0",
   "metadata": {
    "execution": {
     "iopub.execute_input": "2022-11-22T17:51:02.831342Z",
     "iopub.status.busy": "2022-11-22T17:51:02.830773Z",
     "iopub.status.idle": "2022-11-22T17:51:02.851559Z",
     "shell.execute_reply": "2022-11-22T17:51:02.849385Z",
     "shell.execute_reply.started": "2022-11-22T17:51:02.831230Z"
    }
   },
   "outputs": [
    {
     "name": "stdout",
     "output_type": "stream",
     "text": [
      "/notebooks/hawk-eye\n"
     ]
    }
   ],
   "source": [
    "cd hawk-eye"
   ]
  },
  {
   "cell_type": "code",
   "execution_count": 2,
   "id": "d171290b-a3b4-4d75-b35a-38c166c2767e",
   "metadata": {
    "execution": {
     "iopub.execute_input": "2022-11-22T17:51:05.685353Z",
     "iopub.status.busy": "2022-11-22T17:51:05.684793Z",
     "iopub.status.idle": "2022-11-22T17:51:07.134192Z",
     "shell.execute_reply": "2022-11-22T17:51:07.132345Z",
     "shell.execute_reply.started": "2022-11-22T17:51:05.685311Z"
    }
   },
   "outputs": [],
   "source": [
    "rm 'reports/GAN_results/' -r -f"
   ]
  },
  {
   "cell_type": "code",
   "execution_count": 3,
   "id": "c1873ea9-9559-4132-9678-c984a79c92ac",
   "metadata": {
    "execution": {
     "iopub.execute_input": "2022-11-22T17:51:08.293952Z",
     "iopub.status.busy": "2022-11-22T17:51:08.292592Z",
     "iopub.status.idle": "2022-11-22T17:51:09.208785Z",
     "shell.execute_reply": "2022-11-22T17:51:09.207163Z",
     "shell.execute_reply.started": "2022-11-22T17:51:08.293897Z"
    }
   },
   "outputs": [],
   "source": [
    "mkdir 'reports/GAN_results'"
   ]
  },
  {
   "cell_type": "code",
   "execution_count": null,
   "id": "0771e9fe-9cdb-4fd7-9394-80bb4f7de672",
   "metadata": {
    "execution": {
     "iopub.execute_input": "2022-11-22T17:51:15.022103Z",
     "iopub.status.busy": "2022-11-22T17:51:15.021561Z"
    }
   },
   "outputs": [
    {
     "name": "stdout",
     "output_type": "stream",
     "text": [
      "/usr/local/lib/python3.9/dist-packages/torchvision/models/_utils.py:208: UserWarning: The parameter 'pretrained' is deprecated since 0.13 and will be removed in 0.15, please use 'weights' instead.\n",
      "  warnings.warn(\n",
      "/usr/local/lib/python3.9/dist-packages/torchvision/models/_utils.py:223: UserWarning: Arguments other than a weight enum or `None` for 'weights' are deprecated since 0.13 and will be removed in 0.15. The current behavior is equivalent to passing `weights=VGG19_Weights.IMAGENET1K_V1`. You can also use `weights=VGG19_Weights.DEFAULT` to get the most up-to-date weights.\n",
      "  warnings.warn(msg)\n",
      "Downloading: \"https://download.pytorch.org/models/vgg19-dcbb9e9d.pth\" to /root/.cache/torch/hub/checkpoints/vgg19-dcbb9e9d.pth\n",
      " 56%|██████████████████████▉                  | 306M/548M [00:02<00:01, 181MB/s]"
     ]
    }
   ],
   "source": [
    "!python3 src/models/train_model.py"
   ]
  },
  {
   "cell_type": "code",
   "execution_count": 6,
   "id": "1084c56d-7a33-48a5-9c08-599647c2f731",
   "metadata": {
    "execution": {
     "iopub.execute_input": "2022-11-18T09:37:35.171364Z",
     "iopub.status.busy": "2022-11-18T09:37:35.170964Z",
     "iopub.status.idle": "2022-11-18T09:37:47.144047Z",
     "shell.execute_reply": "2022-11-18T09:37:47.142483Z",
     "shell.execute_reply.started": "2022-11-18T09:37:35.171330Z"
    }
   },
   "outputs": [
    {
     "name": "stdout",
     "output_type": "stream",
     "text": [
      "/usr/local/lib/python3.9/dist-packages/torchvision/models/_utils.py:208: UserWarning: The parameter 'pretrained' is deprecated since 0.13 and will be removed in 0.15, please use 'weights' instead.\n",
      "  warnings.warn(\n",
      "/usr/local/lib/python3.9/dist-packages/torchvision/models/_utils.py:223: UserWarning: Arguments other than a weight enum or `None` for 'weights' are deprecated since 0.13 and will be removed in 0.15. The current behavior is equivalent to passing `weights=VGG19_Weights.IMAGENET1K_V1`. You can also use `weights=VGG19_Weights.DEFAULT` to get the most up-to-date weights.\n",
      "  warnings.warn(msg)\n",
      "/usr/local/lib/python3.9/dist-packages/torchvision/transforms/transforms.py:332: UserWarning: Argument 'interpolation' of type int is deprecated since 0.13 and will be removed in 0.15. Please use InterpolationMode enum.\n",
      "  warnings.warn(\n"
     ]
    }
   ],
   "source": [
    "!python3 src/models/predict_model.py"
   ]
  },
  {
   "cell_type": "code",
   "execution_count": null,
   "id": "786819c3-0b13-458b-8c3a-c5249507eb4e",
   "metadata": {},
   "outputs": [],
   "source": []
  }
 ],
 "metadata": {
  "kernelspec": {
   "display_name": "Python 3 (ipykernel)",
   "language": "python",
   "name": "python3"
  },
  "language_info": {
   "codemirror_mode": {
    "name": "ipython",
    "version": 3
   },
   "file_extension": ".py",
   "mimetype": "text/x-python",
   "name": "python",
   "nbconvert_exporter": "python",
   "pygments_lexer": "ipython3",
   "version": "3.9.13"
  }
 },
 "nbformat": 4,
 "nbformat_minor": 5
}
